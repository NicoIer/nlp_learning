{
 "cells": [
  {
   "cell_type": "markdown",
   "source": [
    "# 导入上一次实现的Seq2Seq模块"
   ],
   "metadata": {
    "collapsed": false
   }
  },
  {
   "cell_type": "code",
   "execution_count": 286,
   "metadata": {
    "collapsed": true
   },
   "outputs": [],
   "source": [
    "import matplotlib.pyplot as plt\n",
    "import numpy as np\n",
    "from torch.nn import functional as functional\n",
    "from torch import Tensor\n",
    "import pandas as pd\n",
    "import torch\n",
    "from torch import nn\n",
    "from model import seq2seq\n",
    "import seaborn as sns"
   ]
  },
  {
   "cell_type": "markdown",
   "source": [
    "# 定义注意可视化函数\n",
    "使用seaborn封装好的api即可"
   ],
   "metadata": {
    "collapsed": false
   }
  },
  {
   "cell_type": "code",
   "execution_count": 9,
   "outputs": [
    {
     "data": {
      "text/plain": "tensor([[1., 0., 0., 0., 0., 0., 0., 0., 0., 0.],\n        [0., 1., 0., 0., 0., 0., 0., 0., 0., 0.],\n        [0., 0., 1., 0., 0., 0., 0., 0., 0., 0.],\n        [0., 0., 0., 1., 0., 0., 0., 0., 0., 0.],\n        [0., 0., 0., 0., 1., 0., 0., 0., 0., 0.],\n        [0., 0., 0., 0., 0., 1., 0., 0., 0., 0.],\n        [0., 0., 0., 0., 0., 0., 1., 0., 0., 0.],\n        [0., 0., 0., 0., 0., 0., 0., 1., 0., 0.],\n        [0., 0., 0., 0., 0., 0., 0., 0., 1., 0.],\n        [0., 0., 0., 0., 0., 0., 0., 0., 0., 1.]])"
     },
     "execution_count": 9,
     "metadata": {},
     "output_type": "execute_result"
    }
   ],
   "source": [
    "# 构造10*10的对角矩阵\n",
    "attention_weight = torch.eye(10)\n",
    "attention_weight"
   ],
   "metadata": {
    "collapsed": false,
    "pycharm": {
     "name": "#%%\n"
    }
   }
  },
  {
   "cell_type": "markdown",
   "source": [
    "解释一下这个图的含义\n",
    "x轴:keys(可认为是待预测向量x_predict)\n",
    "y轴:queries(可认为是先验知识中的x_train)\n",
    "其中[xi][yj]表示xi与yi的相关性"
   ],
   "metadata": {
    "collapsed": false
   }
  },
  {
   "cell_type": "code",
   "execution_count": 12,
   "outputs": [
    {
     "data": {
      "text/plain": "Text(33.0, 0.5, 'queries')"
     },
     "execution_count": 12,
     "metadata": {},
     "output_type": "execute_result"
    },
    {
     "data": {
      "text/plain": "<Figure size 432x288 with 2 Axes>",
      "image/png": "[encoded data removed]"
     },
     "metadata": {
      "needs_background": "light"
     },
     "output_type": "display_data"
    }
   ],
   "source": [
    "sns.heatmap(attention_weight)\n",
    "plt.xlabel('keys')\n",
    "plt.ylabel('queries')"
   ],
   "metadata": {
    "collapsed": false,
    "pycharm": {
     "name": "#%%\n"
    }
   }
  },
  {
   "cell_type": "markdown",
   "source": [
    "# 注意力汇聚\n",
    "几种不同的注意力机制的演示"
   ],
   "metadata": {
    "collapsed": false
   }
  },
  {
   "cell_type": "markdown",
   "source": [
    "构造训练集"
   ],
   "metadata": {
    "collapsed": false
   }
  },
  {
   "cell_type": "code",
   "execution_count": 14,
   "outputs": [],
   "source": [
    "def f(x):\n",
    "    return 2*torch.sin(x)+torch.pow(x,0.8)"
   ],
   "metadata": {
    "collapsed": false,
    "pycharm": {
     "name": "#%%\n"
    }
   }
  },
  {
   "cell_type": "code",
   "execution_count": 21,
   "outputs": [],
   "source": [
    "n_train = 50\n",
    "x_train,_ = torch.sort(torch.rand(n_train)*5)\n",
    "# 添加高斯噪音 指定形状\n",
    "y_train = f(x_train) + torch.normal(0.0,0.5,(n_train,))"
   ],
   "metadata": {
    "collapsed": false,
    "pycharm": {
     "name": "#%%\n"
    }
   }
  },
  {
   "cell_type": "markdown",
   "source": [
    "构造测试集"
   ],
   "metadata": {
    "collapsed": false
   }
  },
  {
   "cell_type": "code",
   "execution_count": 22,
   "outputs": [],
   "source": [
    "x_test = torch.arange(0, 5, 0.1)  # 测试样本\n",
    "y_truth = f(x_test)  # 测试样本的真实输出\n",
    "n_test = len(x_test)  # 测试样本数"
   ],
   "metadata": {
    "collapsed": false,
    "pycharm": {
     "name": "#%%\n"
    }
   }
  },
  {
   "cell_type": "markdown",
   "source": [
    "定义一个绘图函数"
   ],
   "metadata": {
    "collapsed": false
   }
  },
  {
   "cell_type": "code",
   "execution_count": 75,
   "outputs": [],
   "source": [
    "def plot_kernel_reg(y_hat):\n",
    "    plt.plot(x_test,y_truth)\n",
    "    plt.scatter(x_test,y_train,alpha=0.5,color='red')\n",
    "    plt.plot(x_test,y_hat,'--')\n",
    "    plt.legend(['truth','train','predict'])"
   ],
   "metadata": {
    "collapsed": false,
    "pycharm": {
     "name": "#%%\n"
    }
   }
  },
  {
   "cell_type": "markdown",
   "source": [
    "最简单粗暴的注意力汇聚-取均值"
   ],
   "metadata": {
    "collapsed": false
   }
  },
  {
   "cell_type": "code",
   "execution_count": 76,
   "outputs": [
    {
     "data": {
      "text/plain": "<Figure size 432x288 with 1 Axes>",
      "image/png": "[encoded data removed]"
     },
     "metadata": {
      "needs_background": "light"
     },
     "output_type": "display_data"
    }
   ],
   "source": [
    "y_hat = torch.repeat_interleave(y_train.mean(), n_test)\n",
    "plot_kernel_reg(y_hat)"
   ],
   "metadata": {
    "collapsed": false,
    "pycharm": {
     "name": "#%%\n"
    }
   }
  },
  {
   "cell_type": "markdown",
   "source": [
    "# 非参注意力汇聚(核函数定义为a(x,xi))"
   ],
   "metadata": {
    "collapsed": false
   }
  },
  {
   "cell_type": "markdown",
   "source": [
    "$$f(x) = \\sum_{i=1}^{n}{a(x,xi)yi}$$"
   ],
   "metadata": {
    "collapsed": false
   }
  },
  {
   "cell_type": "markdown",
   "source": [
    "其中x是已有先验知识的集合\n",
    "$a(x,xi)$ 表示当前输入x(key)与先验知识xi的相似度\n",
    "$a(x,xi)yi$表示当前xi对应的标签yi加权后的结果\n",
    "注意力机制的本质就是 加权平均"
   ],
   "metadata": {
    "collapsed": false
   }
  },
  {
   "cell_type": "markdown",
   "source": [
    "将输入x(query)重复n_train遍:这一步为了方便计算$\\sum_{i=1}^{n}{a(x,xi)yi}$\n",
    "利用矩阵计算一次性就算完了所有xi与x的相似度"
   ],
   "metadata": {
    "collapsed": false
   }
  },
  {
   "cell_type": "code",
   "execution_count": 81,
   "outputs": [
    {
     "data": {
      "text/plain": "torch.Size([50, 50])"
     },
     "execution_count": 81,
     "metadata": {},
     "output_type": "execute_result"
    }
   ],
   "source": [
    "x_repeat = x_test.repeat_interleave(n_train).reshape((-1, n_train))\n",
    "x_repeat.shape"
   ],
   "metadata": {
    "collapsed": false,
    "pycharm": {
     "name": "#%%\n"
    }
   }
  },
  {
   "cell_type": "markdown",
   "source": [
    "定义批量相似度计算函数"
   ],
   "metadata": {
    "collapsed": false
   }
  },
  {
   "cell_type": "code",
   "execution_count": 85,
   "outputs": [],
   "source": [
    "def a(queries_repeat,keys):\n",
    "    return -torch.pow((queries_repeat - keys),2)/ 2"
   ],
   "metadata": {
    "collapsed": false,
    "pycharm": {
     "name": "#%%\n"
    }
   }
  },
  {
   "cell_type": "markdown",
   "source": [
    "批量计算相似度(先计算相似度,再softmax概率归一化)"
   ],
   "metadata": {
    "collapsed": false
   }
  },
  {
   "cell_type": "code",
   "execution_count": 88,
   "outputs": [],
   "source": [
    "attention_weights = functional.softmax(a(x_repeat,x_train), dim=1)"
   ],
   "metadata": {
    "collapsed": false,
    "pycharm": {
     "name": "#%%\n"
    }
   }
  },
  {
   "cell_type": "markdown",
   "source": [
    "批量计算加权yi(value)\n",
    "做矩阵内积(每一行(向量)a[i]都乘以(标量)y[i]进行加权)"
   ],
   "metadata": {
    "collapsed": false
   }
  },
  {
   "cell_type": "code",
   "execution_count": 89,
   "outputs": [],
   "source": [
    "y_hat = torch.matmul(attention_weights,y_train)"
   ],
   "metadata": {
    "collapsed": false,
    "pycharm": {
     "name": "#%%\n"
    }
   }
  },
  {
   "cell_type": "markdown",
   "source": [
    "观察一下使用非参注意力(相似度计算函数为a)下的汇聚结果"
   ],
   "metadata": {
    "collapsed": false
   }
  },
  {
   "cell_type": "code",
   "execution_count": 92,
   "outputs": [
    {
     "data": {
      "text/plain": "<Figure size 432x288 with 1 Axes>",
      "image/png": "[encoded data removed]"
     },
     "metadata": {
      "needs_background": "light"
     },
     "output_type": "display_data"
    }
   ],
   "source": [
    "plot_kernel_reg(y_hat)"
   ],
   "metadata": {
    "collapsed": false,
    "pycharm": {
     "name": "#%%\n"
    }
   }
  },
  {
   "cell_type": "markdown",
   "source": [
    "观察注意力分布(即key[i] 与queries[i]的相似程度)"
   ],
   "metadata": {
    "collapsed": false
   }
  },
  {
   "cell_type": "code",
   "execution_count": 93,
   "outputs": [
    {
     "data": {
      "text/plain": "<AxesSubplot:>"
     },
     "execution_count": 93,
     "metadata": {},
     "output_type": "execute_result"
    },
    {
     "data": {
      "text/plain": "<Figure size 432x288 with 2 Axes>",
      "image/png": "[encoded data removed]"
     },
     "metadata": {
      "needs_background": "light"
     },
     "output_type": "display_data"
    }
   ],
   "source": [
    "sns.heatmap(attention_weights)"
   ],
   "metadata": {
    "collapsed": false,
    "pycharm": {
     "name": "#%%\n"
    }
   }
  },
  {
   "cell_type": "markdown",
   "source": [
    "# 带参的注意力汇聚\n",
    "$$f(x) = \\sum_{i=1}^{n}{a(x,xi)yi}$$\n",
    "$$f(x) = \\sum_{i=1}^{n}{softmax(-\\frac{1}{2}((x-xi)w)^2)yi}$$"
   ],
   "metadata": {
    "collapsed": false
   }
  },
  {
   "cell_type": "markdown",
   "source": [
    "定义带参模型\n",
    "forward中 self.attention_weights的形状[batch_size,n_train] 代表每一个batch下的query与key的相似度\n",
    "最后bmm是 [batch_size,1,n_train] * [batch_size,n_train,1] 的mat乘法"
   ],
   "metadata": {
    "collapsed": false
   }
  },
  {
   "cell_type": "code",
   "execution_count": 168,
   "outputs": [],
   "source": [
    "class NWKernelRegression(nn.Module):\n",
    "    def __init__(self,**kwargs):\n",
    "        super(NWKernelRegression, self).__init__()\n",
    "        self.weights = nn.Parameter(torch.rand((1,)),requires_grad=True)\n",
    "    def forward(self,queries:Tensor,keys,values):\n",
    "        \"\"\"\n",
    "        :param queries: [batch_size,n_train] 表示 查询数量,已有先验知识数量\n",
    "        :param keys: [batch_size,n_train] 先验知识\n",
    "        :param values: [batch_size,n_train] 先验知识\n",
    "        :return:\n",
    "        \"\"\"\n",
    "        _n_train = keys.size(1)\n",
    "        queries = queries.repeat_interleave(_n_train).reshape((-1, _n_train))\n",
    "        self.attention_weight = self.kernel(queries,keys)\n",
    "        return torch.bmm(self.attention_weight.unsqueeze(1),values.unsqueeze(-1)).reshape(-1)\n",
    "    def kernel(self,queries_repeat,keys):\n",
    "        return nn.functional.softmax(-(((queries_repeat-keys)*self.weights)**2)/2,dim=1)"
   ],
   "metadata": {
    "collapsed": false,
    "pycharm": {
     "name": "#%%\n"
    }
   }
  },
  {
   "cell_type": "markdown",
   "source": [
    "构造批量的先验知识"
   ],
   "metadata": {
    "collapsed": false
   }
  },
  {
   "cell_type": "code",
   "execution_count": 108,
   "outputs": [],
   "source": [
    "batch_x_train = x_train.repeat((n_train, 1))\n",
    "batch_y_train = y_train.repeat((n_train, 1))"
   ],
   "metadata": {
    "collapsed": false,
    "pycharm": {
     "name": "#%%\n"
    }
   }
  },
  {
   "cell_type": "markdown",
   "source": [
    "从先验知识中去除自己以构造训练集(自己不能和自己计算注意力)"
   ],
   "metadata": {
    "collapsed": false
   }
  },
  {
   "cell_type": "code",
   "execution_count": 109,
   "outputs": [],
   "source": [
    "select_mat = (1 - torch.eye(n_train)).type(torch.bool)\n",
    "keys = batch_x_train[select_mat].reshape((n_train, -1))\n",
    "values = batch_y_train[select_mat].reshape((n_train, -1))"
   ],
   "metadata": {
    "collapsed": false,
    "pycharm": {
     "name": "#%%\n"
    }
   }
  },
  {
   "cell_type": "markdown",
   "source": [
    "尝试着去训练模型"
   ],
   "metadata": {
    "collapsed": false
   }
  },
  {
   "cell_type": "code",
   "execution_count": 169,
   "outputs": [
    {
     "name": "stdout",
     "output_type": "stream",
     "text": [
      "epoch 1, loss 40.627140\n",
      "epoch 2, loss 8.421967\n",
      "epoch 3, loss 8.413544\n",
      "epoch 4, loss 8.405094\n",
      "epoch 5, loss 8.396616\n"
     ]
    }
   ],
   "source": [
    "net = NWKernelRegression()\n",
    "loss = nn.MSELoss(reduction='none')\n",
    "trainer = torch.optim.SGD(net.parameters(), lr=0.5)\n",
    "loss_dict = {}\n",
    "for epoch in range(5):\n",
    "    trainer.zero_grad()\n",
    "    l = loss(net(x_train, keys, values), y_train)\n",
    "    l_sum = l.sum()\n",
    "    l_sum.backward()\n",
    "    loss_item = l_sum.data\n",
    "    trainer.step()\n",
    "    print(f'epoch {epoch + 1}, loss {float(loss_item):.6f}')\n",
    "    loss_dict[epoch + 1] = float(loss_item)"
   ],
   "metadata": {
    "collapsed": false,
    "pycharm": {
     "name": "#%%\n"
    }
   }
  },
  {
   "cell_type": "markdown",
   "source": [
    "观察损失图"
   ],
   "metadata": {
    "collapsed": false
   }
  },
  {
   "cell_type": "code",
   "execution_count": 170,
   "outputs": [
    {
     "data": {
      "text/plain": "[<matplotlib.lines.Line2D at 0x2360af172b0>]"
     },
     "execution_count": 170,
     "metadata": {},
     "output_type": "execute_result"
    },
    {
     "data": {
      "text/plain": "<Figure size 432x288 with 1 Axes>",
      "image/png": "[encoded data removed]"
     },
     "metadata": {
      "needs_background": "light"
     },
     "output_type": "display_data"
    }
   ],
   "source": [
    "plt.plot(loss_dict.keys(),loss_dict.values())"
   ],
   "metadata": {
    "collapsed": false,
    "pycharm": {
     "name": "#%%\n"
    }
   }
  },
  {
   "cell_type": "markdown",
   "source": [
    "进行预测"
   ],
   "metadata": {
    "collapsed": false
   }
  },
  {
   "cell_type": "code",
   "execution_count": null,
   "outputs": [],
   "source": [
    "# 为了批量计算kernel\n",
    "keys = x_train.repeat((n_test,1))\n",
    "values = y_train.repeat((n_test,1))"
   ],
   "metadata": {
    "collapsed": false,
    "pycharm": {
     "name": "#%%\n"
    }
   }
  },
  {
   "cell_type": "code",
   "execution_count": 158,
   "outputs": [],
   "source": [
    "y_hat = net(x_test,keys,values).detach()"
   ],
   "metadata": {
    "collapsed": false,
    "pycharm": {
     "name": "#%%\n"
    }
   }
  },
  {
   "cell_type": "code",
   "execution_count": 171,
   "outputs": [
    {
     "data": {
      "text/plain": "<Figure size 432x288 with 1 Axes>",
      "image/png": "[encoded data removed]"
     },
     "metadata": {
      "needs_background": "light"
     },
     "output_type": "display_data"
    }
   ],
   "source": [
    "plot_kernel_reg(y_hat)"
   ],
   "metadata": {
    "collapsed": false,
    "pycharm": {
     "name": "#%%\n"
    }
   }
  },
  {
   "cell_type": "code",
   "execution_count": 165,
   "outputs": [
    {
     "data": {
      "text/plain": "<AxesSubplot:>"
     },
     "execution_count": 165,
     "metadata": {},
     "output_type": "execute_result"
    },
    {
     "data": {
      "text/plain": "<Figure size 432x288 with 2 Axes>",
      "image/png": "[encoded data removed]"
     },
     "metadata": {
      "needs_background": "light"
     },
     "output_type": "display_data"
    }
   ],
   "source": [
    "sns.heatmap(net.attention_weight.detach())"
   ],
   "metadata": {
    "collapsed": false,
    "pycharm": {
     "name": "#%%\n"
    }
   }
  },
  {
   "cell_type": "markdown",
   "source": [
    "![attention](https://zh-v2.d2l.ai/_images/attention-output.svg)"
   ],
   "metadata": {
    "collapsed": false
   }
  },
  {
   "cell_type": "markdown",
   "source": [
    "# 使用不同的注意力汇聚函数\n",
    "# $a(x,xi)$"
   ],
   "metadata": {
    "collapsed": false
   }
  },
  {
   "cell_type": "markdown",
   "source": [
    "遮蔽的softmax函数\n",
    "x的形状[batch_size,seq_len,key_size] 表示batch下每句话的每个位置对每个词的预测分数\n",
    "valid_lens[batch_size] 用于对每个batch下的句子进行遮蔽\n",
    "# .....凸(艹皿艹 ) 解释不通了......\n",
    "这里认为一个单独的值表示一个词,这样就能解释的通"
   ],
   "metadata": {
    "collapsed": false
   }
  },
  {
   "cell_type": "code",
   "execution_count": 279,
   "outputs": [],
   "source": [
    "def masked_softmax(x,valid_lens):\n",
    "    \"\"\"\n",
    "    :param x: [batch_size,seq_len,vocab_size]\n",
    "    [0][0][0]表示第一个批量数据 第一个词 在词汇表中索引为0的预测分数\n",
    "    :param valid_lens: [batch_size]\n",
    "    [0]表示第一个batch下有意义的句子长度\n",
    "    :return:\n",
    "    \"\"\"\n",
    "    shape = x.shape\n",
    "    if valid_lens is None:\n",
    "        return x\n",
    "    elif valid_lens.dim() == 1:\n",
    "        valid_lens = torch.repeat_interleave(valid_lens, shape[1])\n",
    "    else:\n",
    "        valid_lens = valid_lens.reshape(-1)\n",
    "    # 多个batch合成一个batch [batch*seq_len,vocab_size]\n",
    "    x = x.reshape(-1,shape[-1])\n",
    "    x = seq2seq.MaskedSoftmaxCELoss.sequence_mask(x,valid_lens,value=-1e6)\n",
    "    return nn.functional.softmax(x.reshape(shape),dim=-1)"
   ],
   "metadata": {
    "collapsed": false,
    "pycharm": {
     "name": "#%%\n"
    }
   }
  },
  {
   "cell_type": "markdown",
   "source": [
    "但是这个函数确实可以遮蔽.....虽然没搞懂为啥遮蔽了vocab_index_prob"
   ],
   "metadata": {
    "collapsed": false
   }
  },
  {
   "cell_type": "code",
   "execution_count": 198,
   "outputs": [
    {
     "data": {
      "text/plain": "tensor([[[0.5454, 0.4546, 0.0000, 0.0000],\n         [0.4632, 0.5368, 0.0000, 0.0000]],\n\n        [[0.4144, 0.2490, 0.3366, 0.0000],\n         [0.4230, 0.2581, 0.3189, 0.0000]]])"
     },
     "execution_count": 198,
     "metadata": {},
     "output_type": "execute_result"
    }
   ],
   "source": [
    "_x = torch.rand(2, 2, 4)\n",
    "_valid_lens = torch.tensor([2, 3])\n",
    "masked_softmax(_x,_valid_lens)"
   ],
   "metadata": {
    "collapsed": false,
    "pycharm": {
     "name": "#%%\n"
    }
   }
  },
  {
   "cell_type": "markdown",
   "source": [
    "# 加性注意力\n",
    "$$a(q,k) = w^T_{u}tanh(W_{q}q+W_{k}k)$$\n",
    "a(q,k) 计算是输入queries与先验知识keys的注意力分数集合\n",
    "[w1,w2,....,wn]表示了[queries[1],......]的注意力权重\n",
    "$q,k$是查询&键 (x_test,xi)\n",
    "$W_q,W_k,w^t_{u}  是可学习参数$"
   ],
   "metadata": {
    "collapsed": false
   }
  },
  {
   "cell_type": "code",
   "execution_count": 215,
   "outputs": [],
   "source": [
    "class AdditiveAttention(nn.Module):\n",
    "    def __init__(self,key_size,query_size,num_hidden,dropout,**kwargs):\n",
    "        super(AdditiveAttention, self).__init__()\n",
    "        self.W_k = nn.Linear(key_size,num_hidden,bias=False)\n",
    "        self.W_q = nn.Linear(query_size,num_hidden,bias=False)\n",
    "        self.w_u = nn.Linear(num_hidden,1,bias=False)\n",
    "        self.dropout = nn.Dropout(dropout)\n",
    "    def forward(self,queries,keys,values,valid_lens):\n",
    "        \"\"\"\n",
    "        :param queries: [batch_size,1,query_size]\n",
    "        :param keys:    [batch_size,seq_len,key_size]\n",
    "        :param values:  [batch_size,seq_len,vocab_size]\n",
    "        :param valid_lens:\n",
    "        :return:\n",
    "        \"\"\"\n",
    "        # 形状变为\n",
    "        # queries [batch_size,1,num_hidden]\n",
    "        # keys [batch_size,seq_len,num_hidden]\n",
    "        queries,keys = self.W_q(queries),self.W_k(keys)\n",
    "        # 利用广播机制进行批量注意力计算 每一个query都和所有的keys进行计算\n",
    "        # queries [batch_size,1,1,num_hidden]\n",
    "        # keys [batch_size,1,seq_len,num_hidden]\n",
    "        # features形状:\n",
    "        # [batch_size,1,10,num_hidden]\n",
    "        features = queries.unsqueeze(2) + keys.unsqueeze(1)\n",
    "        # 第一步计算的形状[batch_size,1,seq_len,1]\n",
    "        # scores的形状[batch_size,1,seq_len]\n",
    "        scores = self.w_u(features).squeeze(-1)\n",
    "        # 计算注意力权重\n",
    "        self.attention_weights = masked_softmax(scores,valid_lens)\n",
    "        # 进行批量矩阵乘法计算注意力权重\n",
    "        # [batch_size,1,seq_len] * [batch_size,seq_len,vocab_size]\n",
    "        # 最后的形状[batch_size,1,vocab_size]\n",
    "        return torch.bmm(self.dropout(self.attention_weights),values)"
   ],
   "metadata": {
    "collapsed": false,
    "pycharm": {
     "name": "#%%\n"
    }
   }
  },
  {
   "cell_type": "markdown",
   "source": [
    "构造测试数据\n",
    "queries:[batch_size,1,query_size]       (2,1,20)\n",
    "keys:   [batch_size,seq_len,key_size]   (2,10,2)\n",
    "values: [batch_size,seq_len,vocab_size] (2,10,4)\n",
    "每一个batch有query_size个待查询值\n",
    "对每一个batch,用每个待查询值与每一个位置上key进行相似度计算\n",
    "对每一个batch,用每个位置上计算出的相似度与value进行加权\n",
    "(给定一个英文单词,与真实英语翻译句子上的每一个词进行计算得出score)\n",
    "(score与真实法语句子上的每个词进行加权)\n",
    "\n",
    "返回: 当前英语单词预测对应法语词汇表的概率向量v,v[i]表示预测单词是fra[i]的概率"
   ],
   "metadata": {
    "collapsed": false
   }
  },
  {
   "cell_type": "code",
   "execution_count": 231,
   "outputs": [],
   "source": [
    "# 查询向量 两个batch,seq_len=1 vocab_size=20\n",
    "queries= torch.normal(0, 1, (2, 1, 20))\n",
    "# 先验知识 两个batch,\n",
    "keys = torch.ones((2, 10, 2))\n",
    "values = torch.arange(40, dtype=torch.float32)\n",
    "values = values.reshape(1, 10, 4).repeat(2, 1, 1)\n",
    "valid_lens = torch.tensor([2, 6])"
   ],
   "metadata": {
    "collapsed": false,
    "pycharm": {
     "name": "#%%\n"
    }
   }
  },
  {
   "cell_type": "code",
   "execution_count": 232,
   "outputs": [
    {
     "data": {
      "text/plain": "torch.Size([2, 1, 4])"
     },
     "execution_count": 232,
     "metadata": {},
     "output_type": "execute_result"
    }
   ],
   "source": [
    "attention = AdditiveAttention(key_size=2, query_size=20,num_hidden=8,dropout=0.1)\n",
    "attention.eval()\n",
    "attention(queries, keys, values, valid_lens).shape"
   ],
   "metadata": {
    "collapsed": false,
    "pycharm": {
     "name": "#%%\n"
    }
   }
  },
  {
   "cell_type": "code",
   "execution_count": 237,
   "outputs": [
    {
     "data": {
      "text/plain": "Text(33.0, 0.5, 'queries')"
     },
     "execution_count": 237,
     "metadata": {},
     "output_type": "execute_result"
    },
    {
     "data": {
      "text/plain": "<Figure size 432x288 with 2 Axes>",
      "image/png": "[encoded data removed]"
     },
     "metadata": {
      "needs_background": "light"
     },
     "output_type": "display_data"
    }
   ],
   "source": [
    "sns.heatmap(attention.attention_weights.squeeze(1).detach())\n",
    "plt.xlabel('keys')\n",
    "plt.ylabel('queries')"
   ],
   "metadata": {
    "collapsed": false,
    "pycharm": {
     "name": "#%%\n"
    }
   }
  },
  {
   "cell_type": "markdown",
   "source": [
    "# 缩放点积注意力\n",
    "$$a(q,k)=\\frac{q^tk}{\\sqrt{d}}$$\n",
    "$$$softmax(\\frac{QK^T}{\\sqrt{d}})V$$\n",
    "query和key的长度需要相同(query_size,key_size)"
   ],
   "metadata": {
    "collapsed": false
   }
  },
  {
   "cell_type": "code",
   "execution_count": 228,
   "outputs": [],
   "source": [
    "class DotProductAttention(nn.Module):\n",
    "    def __init__(self,dropout,**kwargs):\n",
    "        super(DotProductAttention, self).__init__()\n",
    "        self.attention_weights = None\n",
    "        self.dropout = nn.Dropout(dropout)\n",
    "    def forward(self,queries,keys,values,valid_lens=None):\n",
    "        d = torch.tensor(queries.size(-1))\n",
    "        scores = torch.bmm(queries,keys.transpose(1,2))/torch.sqrt(d)\n",
    "        self.attention_weights = masked_softmax(scores,valid_lens)\n",
    "        return torch.bmm(self.dropout(self.attention_weights),values)"
   ],
   "metadata": {
    "collapsed": false,
    "pycharm": {
     "name": "#%%\n"
    }
   }
  },
  {
   "cell_type": "markdown",
   "source": [
    "构造一个新的queries使得query_size=key_size\n",
    "queries:[batch_size,1,query_size]\n",
    "keys:   [batch_size,seq_len,key_size]\n",
    "values: [batch_size,seq_len,vocab_size]"
   ],
   "metadata": {
    "collapsed": false
   }
  },
  {
   "cell_type": "code",
   "execution_count": 239,
   "outputs": [
    {
     "data": {
      "text/plain": "tensor([[[ 2.0000,  3.0000,  4.0000,  5.0000]],\n\n        [[10.0000, 11.0000, 12.0000, 13.0000]]])"
     },
     "execution_count": 239,
     "metadata": {},
     "output_type": "execute_result"
    }
   ],
   "source": [
    "queries = torch.normal(0, 1, (2, 1, 2))\n",
    "attention = DotProductAttention(dropout=0.5)\n",
    "attention.eval()\n",
    "attention(queries, keys, values, valid_lens)"
   ],
   "metadata": {
    "collapsed": false,
    "pycharm": {
     "name": "#%%\n"
    }
   }
  },
  {
   "cell_type": "code",
   "execution_count": 240,
   "outputs": [
    {
     "data": {
      "text/plain": "Text(33.0, 0.5, 'queries')"
     },
     "execution_count": 240,
     "metadata": {},
     "output_type": "execute_result"
    },
    {
     "data": {
      "text/plain": "<Figure size 432x288 with 2 Axes>",
      "image/png": "[encoded data removed]"
     },
     "metadata": {
      "needs_background": "light"
     },
     "output_type": "display_data"
    }
   ],
   "source": [
    "sns.heatmap(attention.attention_weights.squeeze(1).detach())\n",
    "plt.xlabel('keys')\n",
    "plt.ylabel('queries')"
   ],
   "metadata": {
    "collapsed": false,
    "pycharm": {
     "name": "#%%\n"
    }
   }
  },
  {
   "cell_type": "markdown",
   "source": [
    "# 下面研究在Seq2Seq中使用注意力机制"
   ],
   "metadata": {
    "collapsed": false
   }
  },
  {
   "cell_type": "markdown",
   "source": [
    "# Bahdanau注意力\n",
    "\n",
    "### 上下文变量c在任何解码时间步$t^{'}$都会被$c_{t^{'}}$替换 假设输入序列有T个词元,则在解码时间步$t^{'}$的上下文变量是注意力汇聚的输出:\n",
    "# $c_{t^{'}} = \\sum_{t=1}^T\\alpha(s_{t^{'}-1},h_{t})h_{t}$\n",
    "### 其中时间步$t^{'}-1$的解码器隐状态$s_{t^{'}-1}$是查询(query)\n",
    "### 编码器隐状态$h_{t}$既是键(key)也是值(value)\n",
    "### 其中注意力汇聚函数$\\alpha$是上面定义的加性注意力打分函数"
   ],
   "metadata": {
    "collapsed": false
   }
  },
  {
   "cell_type": "markdown",
   "source": [
    "![seq2seq](https://zh-v2.d2l.ai/_images/seq2seq-attention-details.svg)"
   ],
   "metadata": {
    "collapsed": false
   }
  },
  {
   "cell_type": "markdown",
   "source": [
    "# 定义注意力解码器接口"
   ],
   "metadata": {
    "collapsed": false
   }
  },
  {
   "cell_type": "code",
   "execution_count": 242,
   "outputs": [],
   "source": [
    "class AttentionDecoder(seq2seq.Decoder):\n",
    "    \"\"\"带有注意力机制的通用解码器接口\"\"\"\n",
    "    def __init__(self,**kwargs):\n",
    "        super(AttentionDecoder, self).__init__()\n",
    "\n",
    "    def forward(self, x, state):\n",
    "        raise NotImplementedError\n",
    "    @property\n",
    "    def attention_weight(self):\n",
    "        raise NotImplementedError"
   ],
   "metadata": {
    "collapsed": false,
    "pycharm": {
     "name": "#%%\n"
    }
   }
  },
  {
   "cell_type": "markdown",
   "source": [
    "# 定义注意解码器"
   ],
   "metadata": {
    "collapsed": false
   }
  },
  {
   "cell_type": "code",
   "execution_count": 317,
   "outputs": [],
   "source": [
    "class Seq2SeqAttentionDecoder(AttentionDecoder):\n",
    "    def __init__(self,vocab_size,embedding_dim,num_hidden,num_layers,dropout=0,**kwargs):\n",
    "        super(Seq2SeqAttentionDecoder, self).__init__()\n",
    "        # 注意力层的 key_size,query_size,num_hidden 均相同\n",
    "        self.attention = AdditiveAttention(num_hidden,num_hidden,num_hidden,dropout)\n",
    "        self.embedding = nn.Embedding(vocab_size,embedding_dim)\n",
    "        self.rnn = nn.GRU(embedding_dim+num_hidden,num_hidden,num_layers,dropout=dropout,batch_first=True)\n",
    "        self.classify = nn.Linear(num_hidden,vocab_size)\n",
    "        # 注意力权重矩阵\n",
    "        self._attention_weights = None\n",
    "    @classmethod\n",
    "    def init_state(cls,enc_outputs,enc_valid_lens,*args):\n",
    "        # 其实这里是获取encoder的输出,encoder输出两个结果:\n",
    "        # 每一次rnn的预测输出&最后的隐状态ht\n",
    "        # 因为我们encoder的gru设置了batch_first,这里不同再做转置\n",
    "        outputs,hidden_state = enc_outputs\n",
    "        return outputs,hidden_state,enc_valid_lens\n",
    "    def forward(self, x, state):\n",
    "        \"\"\"\n",
    "        :param x:       [batch_size,seq_len]\n",
    "        :param state:   [num_layer,batch_size,num_hidden]\n",
    "        :return:\n",
    "        \"\"\"\n",
    "        # 从init_state中解包\n",
    "        enc_outputs,hidden_state,enc_valid_lens = state\n",
    "        # 词嵌入 [batch_size,seq_len,embedding_dim]\n",
    "        # 转置便于计算[seq_len,batch_size,embedding_dim]\n",
    "        x = self.embedding(x).permute(1,0,2)\n",
    "        outputs,self._attention_weights = [],[]\n",
    "        for index,xi in enumerate(x,0):\n",
    "            # xi:[batch_size,embedding_dim]\n",
    "            # 和之前一样,取最后一个layer用于生成上下文变量\n",
    "            # [batch_size,1,num_hidden]\n",
    "            query = torch.unsqueeze(hidden_state[-1],dim=1)\n",
    "            # 计算注意力分数\n",
    "            # [batch_size,1,num_hidden]\n",
    "            context = self.attention(query,enc_outputs,enc_outputs,enc_valid_lens)\n",
    "            # xi:[batch_size,1,embedding_dim]\n",
    "            xi = xi.unsqueeze(1)\n",
    "            # [batch_size,1,embedding_dim+num_hidden]\n",
    "            xi = torch.cat((context,xi),dim=-1)\n",
    "            # 因为设置了batch_first,因此不需要再变形状\n",
    "            # out:[batch_size,1,embedding_dim+num_hidden]\n",
    "            # hidden_state:[num_layer,batch_size,num_hidden]\n",
    "            out,hidden_state = self.rnn(xi,hidden_state)\n",
    "            # 将当前位置预测追加到预测结果列表\n",
    "            outputs.append(out)\n",
    "            # 保存对应位置的注意力\n",
    "            self._attention_weights.append(self.attention.attention_weights)\n",
    "        # 执行for完毕后\n",
    "        # outputs:[seq_len,batch_size,embedding_dim+num_hidden]\n",
    "        outputs = torch.cat(outputs,dim=1)\n",
    "        # classify后\n",
    "        # outputs:[seq_len,batch_size,vocab_size]\n",
    "        outputs = self.classify(outputs)\n",
    "        # 变回[batch_size,seq_len,]\n",
    "        return outputs.permute(1,0,2),(enc_outputs,hidden_state,enc_valid_lens)\n",
    "    @property\n",
    "    def attention_weight(self):\n",
    "        return self._attention_weights"
   ],
   "metadata": {
    "collapsed": false,
    "pycharm": {
     "name": "#%%\n"
    }
   }
  },
  {
   "cell_type": "markdown",
   "source": [
    "#### 需要注意forward中outputs的序列拼接"
   ],
   "metadata": {
    "collapsed": false
   }
  },
  {
   "cell_type": "markdown",
   "source": [
    "# 构造数据,测试注意力解码器"
   ],
   "metadata": {
    "collapsed": false
   }
  },
  {
   "cell_type": "markdown",
   "source": [
    "编码器,解码器"
   ],
   "metadata": {
    "collapsed": false
   }
  },
  {
   "cell_type": "code",
   "execution_count": 318,
   "outputs": [],
   "source": [
    "encoder = seq2seq.Seq2SeqEncoder(vocab_size=10,embedding_dim=8,num_hidden=16,num_layers=2)\n",
    "encoder.eval()\n",
    "decoder = Seq2SeqAttentionDecoder(vocab_size=10,embedding_dim=8,num_hidden=16,num_layers=2)\n",
    "decoder.eval()\n",
    "pass"
   ],
   "metadata": {
    "collapsed": false,
    "pycharm": {
     "name": "#%%\n"
    }
   }
  },
  {
   "cell_type": "markdown",
   "source": [
    "模拟输入\n",
    "x:[batch_size,seq_len] x[0][0]表示一个单词在词汇表的索引\n",
    "state:tuple(编码器个时刻输出,最后时刻ht,enc_valid_lens=None)"
   ],
   "metadata": {
    "collapsed": false
   }
  },
  {
   "cell_type": "code",
   "execution_count": 319,
   "outputs": [],
   "source": [
    "x = torch.zeros((4,7),dtype=torch.long)\n",
    "state = decoder.init_state(encoder(x),None)\n",
    "output,state = decoder(x,state)"
   ],
   "metadata": {
    "collapsed": false,
    "pycharm": {
     "name": "#%%\n"
    }
   }
  },
  {
   "cell_type": "markdown",
   "source": [
    "对state进行解包\n",
    "0:编码器各时刻的输出\n",
    "1:编码器最后时刻的隐藏层状态\n",
    "2:有效长度"
   ],
   "metadata": {
    "collapsed": false
   }
  },
  {
   "cell_type": "code",
   "execution_count": 324,
   "outputs": [
    {
     "data": {
      "text/plain": "(torch.Size([4, 7, 16]), torch.Size([2, 4, 16]), None)"
     },
     "execution_count": 324,
     "metadata": {},
     "output_type": "execute_result"
    }
   ],
   "source": [
    "state[0].shape,state[1].shape,state[2]"
   ],
   "metadata": {
    "collapsed": false,
    "pycharm": {
     "name": "#%%\n"
    }
   }
  },
  {
   "cell_type": "code",
   "execution_count": 319,
   "outputs": [],
   "source": [],
   "metadata": {
    "collapsed": false,
    "pycharm": {
     "name": "#%%\n"
    }
   }
  }
 ],
 "metadata": {
  "kernelspec": {
   "display_name": "Python 3",
   "language": "python",
   "name": "python3"
  },
  "language_info": {
   "codemirror_mode": {
    "name": "ipython",
    "version": 2
   },
   "file_extension": ".py",
   "mimetype": "text/x-python",
   "name": "python",
   "nbconvert_exporter": "python",
   "pygments_lexer": "ipython2",
   "version": "2.7.6"
  }
 },
 "nbformat": 4,
 "nbformat_minor": 0
}